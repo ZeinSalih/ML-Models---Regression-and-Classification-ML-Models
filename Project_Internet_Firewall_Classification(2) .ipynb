{
 "cells": [
  {
   "cell_type": "code",
   "execution_count": 1,
   "metadata": {},
   "outputs": [
    {
     "name": "stdout",
     "output_type": "stream",
     "text": [
      "<class 'pandas.core.frame.DataFrame'>\n",
      "RangeIndex: 65532 entries, 0 to 65531\n",
      "Data columns (total 12 columns):\n",
      "Source Port             65532 non-null int64\n",
      "Destination Port        65532 non-null int64\n",
      "NAT Source Port         65532 non-null int64\n",
      "NAT Destination Port    65532 non-null int64\n",
      "Action                  65532 non-null object\n",
      "Bytes                   65532 non-null int64\n",
      "Bytes Sent              65532 non-null int64\n",
      "Bytes Received          65532 non-null int64\n",
      "Packets                 65532 non-null int64\n",
      "Elapsed Time (sec)      65532 non-null int64\n",
      "pkts_sent               65532 non-null int64\n",
      "pkts_received           65532 non-null int64\n",
      "dtypes: int64(11), object(1)\n",
      "memory usage: 6.0+ MB\n"
     ]
    }
   ],
   "source": [
    "#Importing libraries and dataset\n",
    "\n",
    "import numpy as np\n",
    "import pandas as pd\n",
    "import matplotlib.pyplot as plt\n",
    "import seaborn as sns\n",
    " \n",
    "idata = pd.read_csv('data/Internet_Firewall.csv')\n",
    "\n",
    "idata.info()"
   ]
  },
  {
   "cell_type": "code",
   "execution_count": 3,
   "metadata": {},
   "outputs": [
    {
     "data": {
      "text/html": [
       "<div>\n",
       "<style scoped>\n",
       "    .dataframe tbody tr th:only-of-type {\n",
       "        vertical-align: middle;\n",
       "    }\n",
       "\n",
       "    .dataframe tbody tr th {\n",
       "        vertical-align: top;\n",
       "    }\n",
       "\n",
       "    .dataframe thead th {\n",
       "        text-align: right;\n",
       "    }\n",
       "</style>\n",
       "<table border=\"1\" class=\"dataframe\">\n",
       "  <thead>\n",
       "    <tr style=\"text-align: right;\">\n",
       "      <th></th>\n",
       "      <th>Source Port</th>\n",
       "      <th>Destination Port</th>\n",
       "      <th>NAT Source Port</th>\n",
       "      <th>NAT Destination Port</th>\n",
       "      <th>Action</th>\n",
       "      <th>Bytes</th>\n",
       "      <th>Bytes Sent</th>\n",
       "      <th>Bytes Received</th>\n",
       "      <th>Packets</th>\n",
       "      <th>Elapsed Time (sec)</th>\n",
       "      <th>pkts_sent</th>\n",
       "      <th>pkts_received</th>\n",
       "    </tr>\n",
       "  </thead>\n",
       "  <tbody>\n",
       "    <tr>\n",
       "      <td>0</td>\n",
       "      <td>57222</td>\n",
       "      <td>53</td>\n",
       "      <td>54587</td>\n",
       "      <td>53</td>\n",
       "      <td>allow</td>\n",
       "      <td>177</td>\n",
       "      <td>94</td>\n",
       "      <td>83</td>\n",
       "      <td>2</td>\n",
       "      <td>30</td>\n",
       "      <td>1</td>\n",
       "      <td>1</td>\n",
       "    </tr>\n",
       "    <tr>\n",
       "      <td>1</td>\n",
       "      <td>56258</td>\n",
       "      <td>3389</td>\n",
       "      <td>56258</td>\n",
       "      <td>3389</td>\n",
       "      <td>allow</td>\n",
       "      <td>4768</td>\n",
       "      <td>1600</td>\n",
       "      <td>3168</td>\n",
       "      <td>19</td>\n",
       "      <td>17</td>\n",
       "      <td>10</td>\n",
       "      <td>9</td>\n",
       "    </tr>\n",
       "    <tr>\n",
       "      <td>2</td>\n",
       "      <td>6881</td>\n",
       "      <td>50321</td>\n",
       "      <td>43265</td>\n",
       "      <td>50321</td>\n",
       "      <td>allow</td>\n",
       "      <td>238</td>\n",
       "      <td>118</td>\n",
       "      <td>120</td>\n",
       "      <td>2</td>\n",
       "      <td>1199</td>\n",
       "      <td>1</td>\n",
       "      <td>1</td>\n",
       "    </tr>\n",
       "    <tr>\n",
       "      <td>3</td>\n",
       "      <td>50553</td>\n",
       "      <td>3389</td>\n",
       "      <td>50553</td>\n",
       "      <td>3389</td>\n",
       "      <td>allow</td>\n",
       "      <td>3327</td>\n",
       "      <td>1438</td>\n",
       "      <td>1889</td>\n",
       "      <td>15</td>\n",
       "      <td>17</td>\n",
       "      <td>8</td>\n",
       "      <td>7</td>\n",
       "    </tr>\n",
       "    <tr>\n",
       "      <td>4</td>\n",
       "      <td>50002</td>\n",
       "      <td>443</td>\n",
       "      <td>45848</td>\n",
       "      <td>443</td>\n",
       "      <td>allow</td>\n",
       "      <td>25358</td>\n",
       "      <td>6778</td>\n",
       "      <td>18580</td>\n",
       "      <td>31</td>\n",
       "      <td>16</td>\n",
       "      <td>13</td>\n",
       "      <td>18</td>\n",
       "    </tr>\n",
       "  </tbody>\n",
       "</table>\n",
       "</div>"
      ],
      "text/plain": [
       "   Source Port  Destination Port  NAT Source Port  NAT Destination Port  \\\n",
       "0        57222                53            54587                    53   \n",
       "1        56258              3389            56258                  3389   \n",
       "2         6881             50321            43265                 50321   \n",
       "3        50553              3389            50553                  3389   \n",
       "4        50002               443            45848                   443   \n",
       "\n",
       "  Action  Bytes  Bytes Sent  Bytes Received  Packets  Elapsed Time (sec)  \\\n",
       "0  allow    177          94              83        2                  30   \n",
       "1  allow   4768        1600            3168       19                  17   \n",
       "2  allow    238         118             120        2                1199   \n",
       "3  allow   3327        1438            1889       15                  17   \n",
       "4  allow  25358        6778           18580       31                  16   \n",
       "\n",
       "   pkts_sent  pkts_received  \n",
       "0          1              1  \n",
       "1         10              9  \n",
       "2          1              1  \n",
       "3          8              7  \n",
       "4         13             18  "
      ]
     },
     "execution_count": 3,
     "metadata": {},
     "output_type": "execute_result"
    }
   ],
   "source": [
    "idata.head(5)"
   ]
  },
  {
   "cell_type": "code",
   "execution_count": 4,
   "metadata": {
    "scrolled": true
   },
   "outputs": [
    {
     "data": {
      "text/html": [
       "<div>\n",
       "<style scoped>\n",
       "    .dataframe tbody tr th:only-of-type {\n",
       "        vertical-align: middle;\n",
       "    }\n",
       "\n",
       "    .dataframe tbody tr th {\n",
       "        vertical-align: top;\n",
       "    }\n",
       "\n",
       "    .dataframe thead th {\n",
       "        text-align: right;\n",
       "    }\n",
       "</style>\n",
       "<table border=\"1\" class=\"dataframe\">\n",
       "  <thead>\n",
       "    <tr style=\"text-align: right;\">\n",
       "      <th></th>\n",
       "      <th>Source Port</th>\n",
       "      <th>Destination Port</th>\n",
       "      <th>NAT Source Port</th>\n",
       "      <th>NAT Destination Port</th>\n",
       "      <th>Action</th>\n",
       "      <th>Bytes</th>\n",
       "      <th>Bytes Sent</th>\n",
       "      <th>Bytes Received</th>\n",
       "      <th>Packets</th>\n",
       "      <th>Elapsed Time (sec)</th>\n",
       "      <th>pkts_sent</th>\n",
       "      <th>pkts_received</th>\n",
       "    </tr>\n",
       "  </thead>\n",
       "  <tbody>\n",
       "    <tr>\n",
       "      <td>count</td>\n",
       "      <td>65532.000000</td>\n",
       "      <td>65532.000000</td>\n",
       "      <td>65532.000000</td>\n",
       "      <td>65532.000000</td>\n",
       "      <td>65532</td>\n",
       "      <td>6.553200e+04</td>\n",
       "      <td>6.553200e+04</td>\n",
       "      <td>6.553200e+04</td>\n",
       "      <td>6.553200e+04</td>\n",
       "      <td>65532.000000</td>\n",
       "      <td>65532.000000</td>\n",
       "      <td>65532.000000</td>\n",
       "    </tr>\n",
       "    <tr>\n",
       "      <td>unique</td>\n",
       "      <td>NaN</td>\n",
       "      <td>NaN</td>\n",
       "      <td>NaN</td>\n",
       "      <td>NaN</td>\n",
       "      <td>4</td>\n",
       "      <td>NaN</td>\n",
       "      <td>NaN</td>\n",
       "      <td>NaN</td>\n",
       "      <td>NaN</td>\n",
       "      <td>NaN</td>\n",
       "      <td>NaN</td>\n",
       "      <td>NaN</td>\n",
       "    </tr>\n",
       "    <tr>\n",
       "      <td>top</td>\n",
       "      <td>NaN</td>\n",
       "      <td>NaN</td>\n",
       "      <td>NaN</td>\n",
       "      <td>NaN</td>\n",
       "      <td>allow</td>\n",
       "      <td>NaN</td>\n",
       "      <td>NaN</td>\n",
       "      <td>NaN</td>\n",
       "      <td>NaN</td>\n",
       "      <td>NaN</td>\n",
       "      <td>NaN</td>\n",
       "      <td>NaN</td>\n",
       "    </tr>\n",
       "    <tr>\n",
       "      <td>freq</td>\n",
       "      <td>NaN</td>\n",
       "      <td>NaN</td>\n",
       "      <td>NaN</td>\n",
       "      <td>NaN</td>\n",
       "      <td>37640</td>\n",
       "      <td>NaN</td>\n",
       "      <td>NaN</td>\n",
       "      <td>NaN</td>\n",
       "      <td>NaN</td>\n",
       "      <td>NaN</td>\n",
       "      <td>NaN</td>\n",
       "      <td>NaN</td>\n",
       "    </tr>\n",
       "    <tr>\n",
       "      <td>mean</td>\n",
       "      <td>49391.969343</td>\n",
       "      <td>10577.385812</td>\n",
       "      <td>19282.972761</td>\n",
       "      <td>2671.049930</td>\n",
       "      <td>NaN</td>\n",
       "      <td>9.712395e+04</td>\n",
       "      <td>2.238580e+04</td>\n",
       "      <td>7.473815e+04</td>\n",
       "      <td>1.028660e+02</td>\n",
       "      <td>65.833577</td>\n",
       "      <td>41.399530</td>\n",
       "      <td>61.466505</td>\n",
       "    </tr>\n",
       "    <tr>\n",
       "      <td>std</td>\n",
       "      <td>15255.712537</td>\n",
       "      <td>18466.027039</td>\n",
       "      <td>21970.689669</td>\n",
       "      <td>9739.162278</td>\n",
       "      <td>NaN</td>\n",
       "      <td>5.618439e+06</td>\n",
       "      <td>3.828139e+06</td>\n",
       "      <td>2.463208e+06</td>\n",
       "      <td>5.133002e+03</td>\n",
       "      <td>302.461762</td>\n",
       "      <td>3218.871288</td>\n",
       "      <td>2223.332271</td>\n",
       "    </tr>\n",
       "    <tr>\n",
       "      <td>min</td>\n",
       "      <td>0.000000</td>\n",
       "      <td>0.000000</td>\n",
       "      <td>0.000000</td>\n",
       "      <td>0.000000</td>\n",
       "      <td>NaN</td>\n",
       "      <td>6.000000e+01</td>\n",
       "      <td>6.000000e+01</td>\n",
       "      <td>0.000000e+00</td>\n",
       "      <td>1.000000e+00</td>\n",
       "      <td>0.000000</td>\n",
       "      <td>1.000000</td>\n",
       "      <td>0.000000</td>\n",
       "    </tr>\n",
       "    <tr>\n",
       "      <td>25%</td>\n",
       "      <td>49183.000000</td>\n",
       "      <td>80.000000</td>\n",
       "      <td>0.000000</td>\n",
       "      <td>0.000000</td>\n",
       "      <td>NaN</td>\n",
       "      <td>6.600000e+01</td>\n",
       "      <td>6.600000e+01</td>\n",
       "      <td>0.000000e+00</td>\n",
       "      <td>1.000000e+00</td>\n",
       "      <td>0.000000</td>\n",
       "      <td>1.000000</td>\n",
       "      <td>0.000000</td>\n",
       "    </tr>\n",
       "    <tr>\n",
       "      <td>50%</td>\n",
       "      <td>53776.500000</td>\n",
       "      <td>445.000000</td>\n",
       "      <td>8820.500000</td>\n",
       "      <td>53.000000</td>\n",
       "      <td>NaN</td>\n",
       "      <td>1.680000e+02</td>\n",
       "      <td>9.000000e+01</td>\n",
       "      <td>7.900000e+01</td>\n",
       "      <td>2.000000e+00</td>\n",
       "      <td>15.000000</td>\n",
       "      <td>1.000000</td>\n",
       "      <td>1.000000</td>\n",
       "    </tr>\n",
       "    <tr>\n",
       "      <td>75%</td>\n",
       "      <td>58638.000000</td>\n",
       "      <td>15000.000000</td>\n",
       "      <td>38366.250000</td>\n",
       "      <td>443.000000</td>\n",
       "      <td>NaN</td>\n",
       "      <td>7.522500e+02</td>\n",
       "      <td>2.100000e+02</td>\n",
       "      <td>4.490000e+02</td>\n",
       "      <td>6.000000e+00</td>\n",
       "      <td>30.000000</td>\n",
       "      <td>3.000000</td>\n",
       "      <td>2.000000</td>\n",
       "    </tr>\n",
       "    <tr>\n",
       "      <td>max</td>\n",
       "      <td>65534.000000</td>\n",
       "      <td>65535.000000</td>\n",
       "      <td>65535.000000</td>\n",
       "      <td>65535.000000</td>\n",
       "      <td>NaN</td>\n",
       "      <td>1.269359e+09</td>\n",
       "      <td>9.484772e+08</td>\n",
       "      <td>3.208818e+08</td>\n",
       "      <td>1.036116e+06</td>\n",
       "      <td>10824.000000</td>\n",
       "      <td>747520.000000</td>\n",
       "      <td>327208.000000</td>\n",
       "    </tr>\n",
       "  </tbody>\n",
       "</table>\n",
       "</div>"
      ],
      "text/plain": [
       "         Source Port  Destination Port  NAT Source Port  NAT Destination Port  \\\n",
       "count   65532.000000      65532.000000     65532.000000          65532.000000   \n",
       "unique           NaN               NaN              NaN                   NaN   \n",
       "top              NaN               NaN              NaN                   NaN   \n",
       "freq             NaN               NaN              NaN                   NaN   \n",
       "mean    49391.969343      10577.385812     19282.972761           2671.049930   \n",
       "std     15255.712537      18466.027039     21970.689669           9739.162278   \n",
       "min         0.000000          0.000000         0.000000              0.000000   \n",
       "25%     49183.000000         80.000000         0.000000              0.000000   \n",
       "50%     53776.500000        445.000000      8820.500000             53.000000   \n",
       "75%     58638.000000      15000.000000     38366.250000            443.000000   \n",
       "max     65534.000000      65535.000000     65535.000000          65535.000000   \n",
       "\n",
       "       Action         Bytes    Bytes Sent  Bytes Received       Packets  \\\n",
       "count   65532  6.553200e+04  6.553200e+04    6.553200e+04  6.553200e+04   \n",
       "unique      4           NaN           NaN             NaN           NaN   \n",
       "top     allow           NaN           NaN             NaN           NaN   \n",
       "freq    37640           NaN           NaN             NaN           NaN   \n",
       "mean      NaN  9.712395e+04  2.238580e+04    7.473815e+04  1.028660e+02   \n",
       "std       NaN  5.618439e+06  3.828139e+06    2.463208e+06  5.133002e+03   \n",
       "min       NaN  6.000000e+01  6.000000e+01    0.000000e+00  1.000000e+00   \n",
       "25%       NaN  6.600000e+01  6.600000e+01    0.000000e+00  1.000000e+00   \n",
       "50%       NaN  1.680000e+02  9.000000e+01    7.900000e+01  2.000000e+00   \n",
       "75%       NaN  7.522500e+02  2.100000e+02    4.490000e+02  6.000000e+00   \n",
       "max       NaN  1.269359e+09  9.484772e+08    3.208818e+08  1.036116e+06   \n",
       "\n",
       "        Elapsed Time (sec)      pkts_sent  pkts_received  \n",
       "count         65532.000000   65532.000000   65532.000000  \n",
       "unique                 NaN            NaN            NaN  \n",
       "top                    NaN            NaN            NaN  \n",
       "freq                   NaN            NaN            NaN  \n",
       "mean             65.833577      41.399530      61.466505  \n",
       "std             302.461762    3218.871288    2223.332271  \n",
       "min               0.000000       1.000000       0.000000  \n",
       "25%               0.000000       1.000000       0.000000  \n",
       "50%              15.000000       1.000000       1.000000  \n",
       "75%              30.000000       3.000000       2.000000  \n",
       "max           10824.000000  747520.000000  327208.000000  "
      ]
     },
     "execution_count": 4,
     "metadata": {},
     "output_type": "execute_result"
    }
   ],
   "source": [
    "idata.describe(include =\"all\")"
   ]
  },
  {
   "cell_type": "code",
   "execution_count": 5,
   "metadata": {},
   "outputs": [
    {
     "data": {
      "text/plain": [
       "Source Port             0\n",
       "Destination Port        0\n",
       "NAT Source Port         0\n",
       "NAT Destination Port    0\n",
       "Action                  0\n",
       "Bytes                   0\n",
       "Bytes Sent              0\n",
       "Bytes Received          0\n",
       "Packets                 0\n",
       "Elapsed Time (sec)      0\n",
       "pkts_sent               0\n",
       "pkts_received           0\n",
       "dtype: int64"
      ]
     },
     "execution_count": 5,
     "metadata": {},
     "output_type": "execute_result"
    }
   ],
   "source": [
    "idata.isnull().sum()"
   ]
  },
  {
   "cell_type": "code",
   "execution_count": 6,
   "metadata": {},
   "outputs": [
    {
     "data": {
      "text/plain": [
       "array(['allow', 'drop', 'deny', 'reset-both'], dtype=object)"
      ]
     },
     "execution_count": 6,
     "metadata": {},
     "output_type": "execute_result"
    }
   ],
   "source": [
    "idata['Action'].unique()"
   ]
  },
  {
   "cell_type": "code",
   "execution_count": 7,
   "metadata": {},
   "outputs": [
    {
     "data": {
      "text/plain": [
       "<function matplotlib.pyplot.show(*args, **kw)>"
      ]
     },
     "execution_count": 7,
     "metadata": {},
     "output_type": "execute_result"
    },
    {
     "data": {
      "image/png": "[encoded data removed]",
      "text/plain": [
       "<Figure size 432x288 with 1 Axes>"
      ]
     },
     "metadata": {
      "needs_background": "light"
     },
     "output_type": "display_data"
    }
   ],
   "source": [
    "# Visualizing a Subset of our data - important features\n",
    "plt.xlabel(\"Features\")\n",
    "plt.ylabel(\"Action\")\n",
    "\n",
    "pltx = idata.loc[:, 'Bytes']\n",
    "plty = idata.loc[:, 'Action']\n",
    "plt.scatter(pltx, plty, color='blue', label= 'Bytes')\n",
    "\n",
    "pltx = idata.loc[:, 'Bytes Sent']\n",
    "plty = idata.loc[:, 'Action']\n",
    "plt.scatter(pltx, plty, color='cyan', label= 'Bytes Sent')\n",
    "\n",
    "pltx = idata.loc[:, 'Packets']\n",
    "plty = idata.loc[:, 'Action']\n",
    "plt.scatter(pltx, plty, color='red', label= 'Packets')\n",
    "\n",
    "pltx = idata.loc[:, 'Elapsed Time (sec)']\n",
    "plty = idata.loc[:, 'Action']\n",
    "plt.scatter(pltx, plty, color='orange', label= 'Elapsed Time (sec)')\n",
    "\n",
    "pltx = idata.loc[:, 'pkts_sent']\n",
    "plty = idata.loc[:, 'Action']\n",
    "plt.scatter(pltx, plty, color='black', label= 'pkts_sent')\n",
    "\n",
    "pltx = idata.loc[:, 'pkts_received']\n",
    "plty = idata.loc[:, 'Action']\n",
    "plt.scatter(pltx, plty, color='green', label= 'pkts_received')\n",
    "\n",
    "plt.legend(loc=1, prop={'size':10})\n",
    "plt.show"
   ]
  },
  {
   "cell_type": "code",
   "execution_count": 8,
   "metadata": {},
   "outputs": [
    {
     "data": {
      "image/png": "[encoded data removed]",
      "text/plain": [
       "<Figure size 432x288 with 1 Axes>"
      ]
     },
     "metadata": {},
     "output_type": "display_data"
    }
   ],
   "source": [
    "# Visualizing the Dependent variable (Action) unique values\n",
    "sns.set_style(style=\"whitegrid\")\n",
    "sns.countplot(x='Action', data=idata,facecolor=(0, 0, 0, 0),linewidth=6,edgecolor=sns.color_palette(\"dark\", 4))\n",
    "              #, palette='Set2'\n",
    "plt.show()"
   ]
  },
  {
   "cell_type": "code",
   "execution_count": 9,
   "metadata": {},
   "outputs": [
    {
     "data": {
      "text/html": [
       "<div>\n",
       "<style scoped>\n",
       "    .dataframe tbody tr th:only-of-type {\n",
       "        vertical-align: middle;\n",
       "    }\n",
       "\n",
       "    .dataframe tbody tr th {\n",
       "        vertical-align: top;\n",
       "    }\n",
       "\n",
       "    .dataframe thead th {\n",
       "        text-align: right;\n",
       "    }\n",
       "</style>\n",
       "<table border=\"1\" class=\"dataframe\">\n",
       "  <thead>\n",
       "    <tr style=\"text-align: right;\">\n",
       "      <th></th>\n",
       "      <th>Source Port</th>\n",
       "      <th>Destination Port</th>\n",
       "      <th>NAT Source Port</th>\n",
       "      <th>NAT Destination Port</th>\n",
       "      <th>Bytes</th>\n",
       "      <th>Bytes Sent</th>\n",
       "      <th>Bytes Received</th>\n",
       "      <th>Packets</th>\n",
       "      <th>Elapsed Time (sec)</th>\n",
       "      <th>pkts_sent</th>\n",
       "      <th>pkts_received</th>\n",
       "    </tr>\n",
       "  </thead>\n",
       "  <tbody>\n",
       "    <tr>\n",
       "      <td>Source Port</td>\n",
       "      <td>1.000000</td>\n",
       "      <td>-0.332246</td>\n",
       "      <td>0.145391</td>\n",
       "      <td>-0.024843</td>\n",
       "      <td>0.000221</td>\n",
       "      <td>-0.000931</td>\n",
       "      <td>0.001950</td>\n",
       "      <td>-0.001742</td>\n",
       "      <td>-0.046515</td>\n",
       "      <td>-0.001422</td>\n",
       "      <td>-0.001962</td>\n",
       "    </tr>\n",
       "    <tr>\n",
       "      <td>Destination Port</td>\n",
       "      <td>-0.332246</td>\n",
       "      <td>1.000000</td>\n",
       "      <td>-0.281676</td>\n",
       "      <td>0.410042</td>\n",
       "      <td>-0.005297</td>\n",
       "      <td>0.001675</td>\n",
       "      <td>-0.014684</td>\n",
       "      <td>-0.006063</td>\n",
       "      <td>0.023537</td>\n",
       "      <td>-0.002134</td>\n",
       "      <td>-0.010909</td>\n",
       "    </tr>\n",
       "    <tr>\n",
       "      <td>NAT Source Port</td>\n",
       "      <td>0.145391</td>\n",
       "      <td>-0.281676</td>\n",
       "      <td>1.000000</td>\n",
       "      <td>0.178435</td>\n",
       "      <td>0.010659</td>\n",
       "      <td>0.002242</td>\n",
       "      <td>0.020827</td>\n",
       "      <td>0.012633</td>\n",
       "      <td>0.141485</td>\n",
       "      <td>0.007180</td>\n",
       "      <td>0.018772</td>\n",
       "    </tr>\n",
       "    <tr>\n",
       "      <td>NAT Destination Port</td>\n",
       "      <td>-0.024843</td>\n",
       "      <td>0.410042</td>\n",
       "      <td>0.178435</td>\n",
       "      <td>1.000000</td>\n",
       "      <td>0.003975</td>\n",
       "      <td>0.007904</td>\n",
       "      <td>-0.003216</td>\n",
       "      <td>0.004605</td>\n",
       "      <td>0.219776</td>\n",
       "      <td>0.006136</td>\n",
       "      <td>0.001747</td>\n",
       "    </tr>\n",
       "    <tr>\n",
       "      <td>Bytes</td>\n",
       "      <td>0.000221</td>\n",
       "      <td>-0.005297</td>\n",
       "      <td>0.010659</td>\n",
       "      <td>0.003975</td>\n",
       "      <td>1.000000</td>\n",
       "      <td>0.933462</td>\n",
       "      <td>0.830225</td>\n",
       "      <td>0.974379</td>\n",
       "      <td>0.148834</td>\n",
       "      <td>0.966548</td>\n",
       "      <td>0.850209</td>\n",
       "    </tr>\n",
       "    <tr>\n",
       "      <td>Bytes Sent</td>\n",
       "      <td>-0.000931</td>\n",
       "      <td>0.001675</td>\n",
       "      <td>0.002242</td>\n",
       "      <td>0.007904</td>\n",
       "      <td>0.933462</td>\n",
       "      <td>1.000000</td>\n",
       "      <td>0.575047</td>\n",
       "      <td>0.887596</td>\n",
       "      <td>0.126039</td>\n",
       "      <td>0.973976</td>\n",
       "      <td>0.639098</td>\n",
       "    </tr>\n",
       "    <tr>\n",
       "      <td>Bytes Received</td>\n",
       "      <td>0.001950</td>\n",
       "      <td>-0.014684</td>\n",
       "      <td>0.020827</td>\n",
       "      <td>-0.003216</td>\n",
       "      <td>0.830225</td>\n",
       "      <td>0.575047</td>\n",
       "      <td>1.000000</td>\n",
       "      <td>0.843067</td>\n",
       "      <td>0.143601</td>\n",
       "      <td>0.690959</td>\n",
       "      <td>0.946039</td>\n",
       "    </tr>\n",
       "    <tr>\n",
       "      <td>Packets</td>\n",
       "      <td>-0.001742</td>\n",
       "      <td>-0.006063</td>\n",
       "      <td>0.012633</td>\n",
       "      <td>0.004605</td>\n",
       "      <td>0.974379</td>\n",
       "      <td>0.887596</td>\n",
       "      <td>0.843067</td>\n",
       "      <td>1.000000</td>\n",
       "      <td>0.147074</td>\n",
       "      <td>0.961286</td>\n",
       "      <td>0.916978</td>\n",
       "    </tr>\n",
       "    <tr>\n",
       "      <td>Elapsed Time (sec)</td>\n",
       "      <td>-0.046515</td>\n",
       "      <td>0.023537</td>\n",
       "      <td>0.141485</td>\n",
       "      <td>0.219776</td>\n",
       "      <td>0.148834</td>\n",
       "      <td>0.126039</td>\n",
       "      <td>0.143601</td>\n",
       "      <td>0.147074</td>\n",
       "      <td>1.000000</td>\n",
       "      <td>0.135101</td>\n",
       "      <td>0.143954</td>\n",
       "    </tr>\n",
       "    <tr>\n",
       "      <td>pkts_sent</td>\n",
       "      <td>-0.001422</td>\n",
       "      <td>-0.002134</td>\n",
       "      <td>0.007180</td>\n",
       "      <td>0.006136</td>\n",
       "      <td>0.966548</td>\n",
       "      <td>0.973976</td>\n",
       "      <td>0.690959</td>\n",
       "      <td>0.961286</td>\n",
       "      <td>0.135101</td>\n",
       "      <td>1.000000</td>\n",
       "      <td>0.771550</td>\n",
       "    </tr>\n",
       "    <tr>\n",
       "      <td>pkts_received</td>\n",
       "      <td>-0.001962</td>\n",
       "      <td>-0.010909</td>\n",
       "      <td>0.018772</td>\n",
       "      <td>0.001747</td>\n",
       "      <td>0.850209</td>\n",
       "      <td>0.639098</td>\n",
       "      <td>0.946039</td>\n",
       "      <td>0.916978</td>\n",
       "      <td>0.143954</td>\n",
       "      <td>0.771550</td>\n",
       "      <td>1.000000</td>\n",
       "    </tr>\n",
       "  </tbody>\n",
       "</table>\n",
       "</div>"
      ],
      "text/plain": [
       "                      Source Port  Destination Port  NAT Source Port  \\\n",
       "Source Port              1.000000         -0.332246         0.145391   \n",
       "Destination Port        -0.332246          1.000000        -0.281676   \n",
       "NAT Source Port          0.145391         -0.281676         1.000000   \n",
       "NAT Destination Port    -0.024843          0.410042         0.178435   \n",
       "Bytes                    0.000221         -0.005297         0.010659   \n",
       "Bytes Sent              -0.000931          0.001675         0.002242   \n",
       "Bytes Received           0.001950         -0.014684         0.020827   \n",
       "Packets                 -0.001742         -0.006063         0.012633   \n",
       "Elapsed Time (sec)      -0.046515          0.023537         0.141485   \n",
       "pkts_sent               -0.001422         -0.002134         0.007180   \n",
       "pkts_received           -0.001962         -0.010909         0.018772   \n",
       "\n",
       "                      NAT Destination Port     Bytes  Bytes Sent  \\\n",
       "Source Port                      -0.024843  0.000221   -0.000931   \n",
       "Destination Port                  0.410042 -0.005297    0.001675   \n",
       "NAT Source Port                   0.178435  0.010659    0.002242   \n",
       "NAT Destination Port              1.000000  0.003975    0.007904   \n",
       "Bytes                             0.003975  1.000000    0.933462   \n",
       "Bytes Sent                        0.007904  0.933462    1.000000   \n",
       "Bytes Received                   -0.003216  0.830225    0.575047   \n",
       "Packets                           0.004605  0.974379    0.887596   \n",
       "Elapsed Time (sec)                0.219776  0.148834    0.126039   \n",
       "pkts_sent                         0.006136  0.966548    0.973976   \n",
       "pkts_received                     0.001747  0.850209    0.639098   \n",
       "\n",
       "                      Bytes Received   Packets  Elapsed Time (sec)  pkts_sent  \\\n",
       "Source Port                 0.001950 -0.001742           -0.046515  -0.001422   \n",
       "Destination Port           -0.014684 -0.006063            0.023537  -0.002134   \n",
       "NAT Source Port             0.020827  0.012633            0.141485   0.007180   \n",
       "NAT Destination Port       -0.003216  0.004605            0.219776   0.006136   \n",
       "Bytes                       0.830225  0.974379            0.148834   0.966548   \n",
       "Bytes Sent                  0.575047  0.887596            0.126039   0.973976   \n",
       "Bytes Received              1.000000  0.843067            0.143601   0.690959   \n",
       "Packets                     0.843067  1.000000            0.147074   0.961286   \n",
       "Elapsed Time (sec)          0.143601  0.147074            1.000000   0.135101   \n",
       "pkts_sent                   0.690959  0.961286            0.135101   1.000000   \n",
       "pkts_received               0.946039  0.916978            0.143954   0.771550   \n",
       "\n",
       "                      pkts_received  \n",
       "Source Port               -0.001962  \n",
       "Destination Port          -0.010909  \n",
       "NAT Source Port            0.018772  \n",
       "NAT Destination Port       0.001747  \n",
       "Bytes                      0.850209  \n",
       "Bytes Sent                 0.639098  \n",
       "Bytes Received             0.946039  \n",
       "Packets                    0.916978  \n",
       "Elapsed Time (sec)         0.143954  \n",
       "pkts_sent                  0.771550  \n",
       "pkts_received              1.000000  "
      ]
     },
     "execution_count": 9,
     "metadata": {},
     "output_type": "execute_result"
    }
   ],
   "source": [
    "# Dataset Features Correlation\n",
    "idata.corr()"
   ]
  },
  {
   "cell_type": "code",
   "execution_count": 10,
   "metadata": {},
   "outputs": [
    {
     "data": {
      "image/png": "[encoded data removed]",
      "text/plain": [
       "<Figure size 432x288 with 2 Axes>"
      ]
     },
     "metadata": {},
     "output_type": "display_data"
    }
   ],
   "source": [
    "ht = sns.heatmap(idata.corr(),center=0, annot=True, cmap=\"YlGnBu\")"
   ]
  },
  {
   "cell_type": "code",
   "execution_count": 11,
   "metadata": {},
   "outputs": [],
   "source": [
    "# Spliting the dataset\n",
    "\n",
    "X = idata.drop(['Action'], axis=1)\n",
    "y = idata['Action']"
   ]
  },
  {
   "cell_type": "code",
   "execution_count": 12,
   "metadata": {},
   "outputs": [
    {
     "data": {
      "text/plain": [
       "DecisionTreeClassifier(ccp_alpha=0.0, class_weight=None, criterion='gini',\n",
       "                       max_depth=10, max_features=None, max_leaf_nodes=None,\n",
       "                       min_impurity_decrease=0.0, min_impurity_split=None,\n",
       "                       min_samples_leaf=1, min_samples_split=2,\n",
       "                       min_weight_fraction_leaf=0.0, presort='deprecated',\n",
       "                       random_state=15, splitter='best')"
      ]
     },
     "execution_count": 12,
     "metadata": {},
     "output_type": "execute_result"
    }
   ],
   "source": [
    "# Feature Selection\n",
    "from sklearn.tree import DecisionTreeClassifier\n",
    "\n",
    "df = DecisionTreeClassifier(random_state=15, criterion='gini',  max_depth=10)\n",
    "df.fit(X,y)"
   ]
  },
  {
   "cell_type": "code",
   "execution_count": 13,
   "metadata": {
    "scrolled": true
   },
   "outputs": [
    {
     "name": "stdout",
     "output_type": "stream",
     "text": [
      "The Impotant Variable for Source Port is : 0.000709441584774285\n",
      "The Impotant Variable for Destination Port is : 0.36538440678672546\n",
      "The Impotant Variable for NAT Source Port is : 5.2672367312753435e-05\n",
      "The Impotant Variable for NAT Destination Port is : 0.0003890450193936749\n",
      "The Impotant Variable for Bytes is : 0.0007133899941219098\n",
      "The Impotant Variable for Bytes Sent is : 0.0001280113865340411\n",
      "The Impotant Variable for Bytes Received is : 0.00029097108647619074\n",
      "The Impotant Variable for Packets is : 0.012046650549176677\n",
      "The Impotant Variable for Elapsed Time (sec) is : 0.6200143070059122\n",
      "The Impotant Variable for pkts_sent is : 0.0002711042195727853\n",
      "The Impotant Variable for pkts_received is : 0.0\n"
     ]
    }
   ],
   "source": [
    "for i,column in enumerate(idata.drop('Action',axis=1)):\n",
    "    print('The Impotant Variable for {} is : {}'.format(column, df.feature_importances_[i]))\n"
   ]
  },
  {
   "cell_type": "code",
   "execution_count": 14,
   "metadata": {},
   "outputs": [
    {
     "name": "stdout",
     "output_type": "stream",
     "text": [
      "(52425, 11)\n",
      "(13107, 11)\n",
      "(52425,)\n",
      "(13107,)\n"
     ]
    }
   ],
   "source": [
    "#Split the data into training 80% and testing 20% sets\n",
    "from sklearn.model_selection import train_test_split\n",
    "X_train, X_test, y_train, y_test = train_test_split(X,y, random_state=0,\n",
    "                                                   test_size=0.2)\n",
    "print(X_train.shape)\n",
    "print(X_test.shape)\n",
    "print(y_train.shape)\n",
    "print(y_test.shape)"
   ]
  },
  {
   "cell_type": "code",
   "execution_count": 15,
   "metadata": {},
   "outputs": [],
   "source": [
    "from sklearn.linear_model import LogisticRegression\n",
    "model = LogisticRegression(solver='sag',tol=0.01,random_state=0)"
   ]
  },
  {
   "cell_type": "code",
   "execution_count": 16,
   "metadata": {},
   "outputs": [],
   "source": [
    "from sklearn.preprocessing import StandardScaler\n",
    "sc = StandardScaler()\n",
    "X_train_scaled = sc.fit_transform(X_train)\n",
    "X_test_scaled = sc.transform(X_test)"
   ]
  },
  {
   "cell_type": "code",
   "execution_count": 17,
   "metadata": {},
   "outputs": [
    {
     "data": {
      "text/plain": [
       "LogisticRegression(C=1.0, class_weight=None, dual=False, fit_intercept=True,\n",
       "                   intercept_scaling=1, l1_ratio=None, max_iter=100,\n",
       "                   multi_class='auto', n_jobs=None, penalty='l2',\n",
       "                   random_state=0, solver='sag', tol=0.01, verbose=0,\n",
       "                   warm_start=False)"
      ]
     },
     "execution_count": 17,
     "metadata": {},
     "output_type": "execute_result"
    }
   ],
   "source": [
    "model.fit(X_train_scaled, y_train)"
   ]
  },
  {
   "cell_type": "code",
   "execution_count": 18,
   "metadata": {},
   "outputs": [
    {
     "data": {
      "text/plain": [
       "array([ 2.04251359, -0.11436066, -0.43297761, -1.49517533])"
      ]
     },
     "execution_count": 18,
     "metadata": {},
     "output_type": "execute_result"
    }
   ],
   "source": [
    "model.intercept_"
   ]
  },
  {
   "cell_type": "code",
   "execution_count": 19,
   "metadata": {},
   "outputs": [
    {
     "data": {
      "text/plain": [
       "array([[-1.17609908e-01, -9.95003045e-01,  1.90962068e+00,\n",
       "         8.03552524e-01,  1.28849663e-02, -8.07226281e-03,\n",
       "         4.22505746e-02,  1.84825668e-02,  5.38890409e-01,\n",
       "         5.63389325e-03,  3.46240648e-02],\n",
       "       [-4.32531807e-01,  1.67807806e+00, -9.30481595e-01,\n",
       "        -6.84520978e-01, -1.05475880e-02, -6.49553949e-04,\n",
       "        -2.32083437e-02, -1.33135613e-02, -2.81069673e-01,\n",
       "        -7.05946604e-03, -2.05723470e-02],\n",
       "       [ 6.56897632e-01, -8.79295226e-01, -1.31268268e+00,\n",
       "        -1.86159702e-01, -1.49272513e-02,  8.69199008e-04,\n",
       "        -3.56489657e-02, -1.88431606e-02, -3.54065272e-01,\n",
       "        -9.10832569e-03, -3.04023174e-02],\n",
       "       [-1.06755916e-01,  1.96220215e-01,  3.33543602e-01,\n",
       "         6.71281566e-02,  1.25898730e-02,  7.85261775e-03,\n",
       "         1.66067347e-02,  1.36741551e-02,  9.62445361e-02,\n",
       "         1.05338985e-02,  1.63505996e-02]])"
      ]
     },
     "execution_count": 19,
     "metadata": {},
     "output_type": "execute_result"
    }
   ],
   "source": [
    "model.coef_"
   ]
  },
  {
   "cell_type": "code",
   "execution_count": 20,
   "metadata": {},
   "outputs": [
    {
     "data": {
      "text/plain": [
       "array(['allow', 'drop', 'allow', 'deny', 'drop', 'deny', 'drop', 'allow',\n",
       "       'drop', 'deny', 'allow', 'allow', 'deny', 'allow', 'allow', 'drop',\n",
       "       'deny', 'allow', 'deny', 'allow'], dtype=object)"
      ]
     },
     "execution_count": 20,
     "metadata": {},
     "output_type": "execute_result"
    }
   ],
   "source": [
    "# Create Y Predict\n",
    "y_pred = model.predict(X_test_scaled)\n",
    "y_pred[:20]"
   ]
  },
  {
   "cell_type": "code",
   "execution_count": 21,
   "metadata": {},
   "outputs": [
    {
     "name": "stdout",
     "output_type": "stream",
     "text": [
      "(13107,)\n"
     ]
    }
   ],
   "source": [
    "print(y_test.shape)\n",
    "test=y_test.values.reshape(1,13107)"
   ]
  },
  {
   "cell_type": "code",
   "execution_count": 22,
   "metadata": {},
   "outputs": [
    {
     "data": {
      "text/html": [
       "<div>\n",
       "<style scoped>\n",
       "    .dataframe tbody tr th:only-of-type {\n",
       "        vertical-align: middle;\n",
       "    }\n",
       "\n",
       "    .dataframe tbody tr th {\n",
       "        vertical-align: top;\n",
       "    }\n",
       "\n",
       "    .dataframe thead th {\n",
       "        text-align: right;\n",
       "    }\n",
       "</style>\n",
       "<table border=\"1\" class=\"dataframe\">\n",
       "  <thead>\n",
       "    <tr style=\"text-align: right;\">\n",
       "      <th></th>\n",
       "      <th>Actual</th>\n",
       "      <th>Predicted</th>\n",
       "    </tr>\n",
       "  </thead>\n",
       "  <tbody>\n",
       "    <tr>\n",
       "      <td>0</td>\n",
       "      <td>allow</td>\n",
       "      <td>allow</td>\n",
       "    </tr>\n",
       "    <tr>\n",
       "      <td>1</td>\n",
       "      <td>drop</td>\n",
       "      <td>drop</td>\n",
       "    </tr>\n",
       "    <tr>\n",
       "      <td>2</td>\n",
       "      <td>allow</td>\n",
       "      <td>allow</td>\n",
       "    </tr>\n",
       "    <tr>\n",
       "      <td>3</td>\n",
       "      <td>deny</td>\n",
       "      <td>deny</td>\n",
       "    </tr>\n",
       "    <tr>\n",
       "      <td>4</td>\n",
       "      <td>drop</td>\n",
       "      <td>drop</td>\n",
       "    </tr>\n",
       "    <tr>\n",
       "      <td>5</td>\n",
       "      <td>allow</td>\n",
       "      <td>deny</td>\n",
       "    </tr>\n",
       "    <tr>\n",
       "      <td>6</td>\n",
       "      <td>deny</td>\n",
       "      <td>drop</td>\n",
       "    </tr>\n",
       "    <tr>\n",
       "      <td>7</td>\n",
       "      <td>allow</td>\n",
       "      <td>allow</td>\n",
       "    </tr>\n",
       "    <tr>\n",
       "      <td>8</td>\n",
       "      <td>drop</td>\n",
       "      <td>drop</td>\n",
       "    </tr>\n",
       "    <tr>\n",
       "      <td>9</td>\n",
       "      <td>deny</td>\n",
       "      <td>deny</td>\n",
       "    </tr>\n",
       "  </tbody>\n",
       "</table>\n",
       "</div>"
      ],
      "text/plain": [
       "  Actual Predicted\n",
       "0  allow     allow\n",
       "1   drop      drop\n",
       "2  allow     allow\n",
       "3   deny      deny\n",
       "4   drop      drop\n",
       "5  allow      deny\n",
       "6   deny      drop\n",
       "7  allow     allow\n",
       "8   drop      drop\n",
       "9   deny      deny"
      ]
     },
     "execution_count": 22,
     "metadata": {},
     "output_type": "execute_result"
    }
   ],
   "source": [
    "datatest = pd.DataFrame({\"Actual\":test.flatten(), \"Predicted\":y_pred.flatten()})\n",
    "datatest.head(10)"
   ]
  },
  {
   "cell_type": "code",
   "execution_count": 23,
   "metadata": {},
   "outputs": [],
   "source": [
    "#datatest.tail(10).plot(kind =\"bar\")\n",
    "#plt.title(\"Actions: Actual vs Predicted\") \n",
    "#plt.show()"
   ]
  },
  {
   "cell_type": "code",
   "execution_count": 24,
   "metadata": {},
   "outputs": [
    {
     "name": "stdout",
     "output_type": "stream",
     "text": [
      "The Testing Accuracy is :  0.9317158770122835\n",
      "The Training Accuracy is :  0.928621840724845\n"
     ]
    }
   ],
   "source": [
    "# Accuracy Score \n",
    "from sklearn.metrics import accuracy_score, classification_report, confusion_matrix\n",
    "print(\"The Testing Accuracy is : \", accuracy_score(y_test, y_pred))\n",
    "print(\"The Training Accuracy is : \", model.score(X_train_scaled, y_train))"
   ]
  },
  {
   "cell_type": "code",
   "execution_count": 25,
   "metadata": {},
   "outputs": [
    {
     "name": "stderr",
     "output_type": "stream",
     "text": [
      "/usr/local/anaconda/lib/python3.6/site-packages/sklearn/metrics/_classification.py:1272: UndefinedMetricWarning: Precision and F-score are ill-defined and being set to 0.0 in labels with no predicted samples. Use `zero_division` parameter to control this behavior.\n",
      "  _warn_prf(average, modifier, msg_start, len(result))\n"
     ]
    },
    {
     "name": "stdout",
     "output_type": "stream",
     "text": [
      "              precision    recall  f1-score   support\n",
      "\n",
      "       allow       1.00      0.93      0.96      7522\n",
      "        deny       0.98      0.87      0.92      2989\n",
      "        drop       0.76      1.00      0.87      2589\n",
      "  reset-both       0.00      0.00      0.00         7\n",
      "\n",
      "    accuracy                           0.93     13107\n",
      "   macro avg       0.68      0.70      0.69     13107\n",
      "weighted avg       0.94      0.93      0.93     13107\n",
      "\n"
     ]
    }
   ],
   "source": [
    "# Classification Report\n",
    "print(classification_report(y_test,y_pred))"
   ]
  },
  {
   "cell_type": "code",
   "execution_count": 26,
   "metadata": {},
   "outputs": [
    {
     "name": "stdout",
     "output_type": "stream",
     "text": [
      "[[7028   58  436    0]\n",
      " [  31 2595  363    0]\n",
      " [   0    0 2589    0]\n",
      " [   1    6    0    0]]\n"
     ]
    }
   ],
   "source": [
    "# Confusion Matrix\n",
    "print(confusion_matrix(y_test,y_pred))"
   ]
  },
  {
   "cell_type": "code",
   "execution_count": 27,
   "metadata": {},
   "outputs": [],
   "source": [
    "# Confusion Matrix function\n",
    "\n",
    "def plot_confusion_matrix(cm, classes=None, title='Confusion matrix'):\n",
    "    \"\"\"Plots a confusion matrix.\"\"\"\n",
    "    if classes is not None:\n",
    "        sns.heatmap(cm, cmap=\"BuPu\", xticklabels=classes, yticklabels=classes, vmin=0., vmax=1., annot=True, annot_kws={'size':10})\n",
    "    else:\n",
    "        sns.heatmap(cm, vmin=0., vmax=1.)\n",
    "    plt.title(title)\n",
    "    plt.ylabel('Actual Label')\n",
    "    plt.xlabel('Predicted label')"
   ]
  },
  {
   "cell_type": "code",
   "execution_count": 28,
   "metadata": {},
   "outputs": [
    {
     "data": {
      "image/png": "[encoded data removed]",
      "text/plain": [
       "<Figure size 432x288 with 2 Axes>"
      ]
     },
     "metadata": {},
     "output_type": "display_data"
    }
   ],
   "source": [
    "# Visualizing Confusion Matrix\n",
    "\n",
    "cm = confusion_matrix(y_test,y_pred)\n",
    "cm_per = cm / cm.sum(axis=1).reshape(-1,1)\n",
    "\n",
    "plot_confusion_matrix(cm_per, classes = model.classes_, title='Confusion matrix')"
   ]
  },
  {
   "cell_type": "code",
   "execution_count": 29,
   "metadata": {},
   "outputs": [
    {
     "name": "stdout",
     "output_type": "stream",
     "text": [
      "K-fold cross validation: 0.9294801409814402\n"
     ]
    }
   ],
   "source": [
    "#k-fold cross-validation score\n",
    "from sklearn.model_selection import cross_val_score\n",
    "cvs_lor = cross_val_score(model, X_train_scaled, y_train, cv=4).mean()\n",
    "print(\"K-fold cross validation:\", cvs_lor)"
   ]
  },
  {
   "cell_type": "code",
   "execution_count": 33,
   "metadata": {},
   "outputs": [],
   "source": [
    "# Grid Search CV\n",
    "\n",
    "params = {\n",
    "          \"penalty\": ['l1', 'l2', 'elasticnet', 'none'], \n",
    "          \"tol\": [0.0001, 0.001, 0.01, 0.1],\n",
    "          \"C\": [1,5,10,15,20,25],\n",
    "          \"intercept_scaling\": [1, 2, 3, 4],\n",
    "          \"solver\": ['sag', 'saga'],\n",
    "          \"random_state\": [0,10,20]\n",
    "         }\n",
    "\n",
    "\n",
    "from sklearn.model_selection import GridSearchCV\n",
    "grid_lor = GridSearchCV(estimator=LogisticRegression(), \n",
    "                       param_grid=params,\n",
    "                       cv=4,\n",
    "                       n_jobs=2,\n",
    "                       scoring=\"accuracy\"\n",
    "                      )"
   ]
  },
  {
   "cell_type": "code",
   "execution_count": null,
   "metadata": {},
   "outputs": [],
   "source": [
    "grid_lor.fit(X_train, y_train)"
   ]
  },
  {
   "cell_type": "code",
   "execution_count": null,
   "metadata": {},
   "outputs": [],
   "source": [
    "grid_lor.best_params_"
   ]
  },
  {
   "cell_type": "code",
   "execution_count": null,
   "metadata": {},
   "outputs": [],
   "source": [
    "print(\"Logistic Regression Best Score:\", grid_lor.best_score_)"
   ]
  },
  {
   "cell_type": "code",
   "execution_count": null,
   "metadata": {},
   "outputs": [],
   "source": [
    "# Logistic Regression k-fold cross-validation score\n",
    "from sklearn.model_selection import cross_val_score\n",
    "print(\" Logistic Regression K-fold cross validation:\", cross_val_score(grid_lor, X_train_scaled, y_train, cv=4).mean()) \n",
    "cvs_lor_Grid = cross_val_score(grid_lr, X_train_scaled, y_train, cv=4).mean()"
   ]
  },
  {
   "cell_type": "code",
   "execution_count": null,
   "metadata": {},
   "outputs": [],
   "source": []
  },
  {
   "cell_type": "code",
   "execution_count": 33,
   "metadata": {},
   "outputs": [],
   "source": [
    "# KNN Model\n",
    "from sklearn.neighbors import KNeighborsClassifier\n",
    "\n",
    "\n",
    "test_score = []\n",
    "train_score = []\n",
    "\n",
    "for i in range(1,11):\n",
    "\n",
    "    knn = KNeighborsClassifier(i)\n",
    "    knn.fit(X_train,y_train)\n",
    "    \n",
    "    train_score.append(knn.score(X_train,y_train))\n",
    "    test_score.append(knn.score(X_test,y_test))"
   ]
  },
  {
   "cell_type": "code",
   "execution_count": 34,
   "metadata": {},
   "outputs": [
    {
     "name": "stdout",
     "output_type": "stream",
     "text": [
      "Max train score 99.9580352885074 % and k = [1]\n",
      "Max test score 99.46593423361563 % and k = [3]\n"
     ]
    }
   ],
   "source": [
    "max_train_score = max(train_score)\n",
    "train_scores_ind = [i for i, v in enumerate(train_score) if v == max_train_score]\n",
    "print('Max train score {} % and k = {}'.format(max_train_score*100,list(map(lambda x: x+1, train_scores_ind))))\n",
    "\n",
    "max_test_score = max(test_score)\n",
    "test_scores_ind = [i for i, v in enumerate(test_score) if v == max_test_score]\n",
    "print('Max test score {} % and k = {}'.format(max_test_score*100,list(map(lambda x: x+1, test_scores_ind))))\n"
   ]
  },
  {
   "cell_type": "code",
   "execution_count": 35,
   "metadata": {
    "scrolled": true
   },
   "outputs": [
    {
     "data": {
      "image/png": "[encoded data removed]",
      "text/plain": [
       "<Figure size 720x288 with 1 Axes>"
      ]
     },
     "metadata": {},
     "output_type": "display_data"
    }
   ],
   "source": [
    "## Visualisation train and test sets\n",
    "plt.figure(figsize=(10,4))\n",
    "p = sns.lineplot(range(1,11),train_score,marker='*',label='Train Score')\n",
    "p = sns.lineplot(range(1,11),test_score,marker='^',label='Test Score')\n"
   ]
  },
  {
   "cell_type": "code",
   "execution_count": 36,
   "metadata": {},
   "outputs": [],
   "source": [
    "# KNN Model\n",
    "from sklearn.neighbors import KNeighborsClassifier\n",
    "\n",
    "knn = KNeighborsClassifier()"
   ]
  },
  {
   "cell_type": "code",
   "execution_count": 37,
   "metadata": {},
   "outputs": [
    {
     "name": "stdout",
     "output_type": "stream",
     "text": [
      "The Optimal K : 9\n"
     ]
    },
    {
     "data": {
      "text/plain": [
       "[0.9907526094121956,\n",
       " 0.9906915705304279,\n",
       " 0.9925227369834585,\n",
       " 0.9929500091558322,\n",
       " 0.9933620216077641,\n",
       " 0.9933467618873222,\n",
       " 0.9933315021668803,\n",
       " 0.9933467618873222,\n",
       " 0.9934230604895318,\n",
       " 0.9933772813282061,\n",
       " 0.9933315021668804,\n",
       " 0.9933467618873223,\n",
       " 0.9933620216077642,\n",
       " 0.9933315021668804,\n",
       " 0.9931026063602515]"
      ]
     },
     "execution_count": 37,
     "metadata": {},
     "output_type": "execute_result"
    }
   ],
   "source": [
    "# for no.of nighbors from 1 -16, graph the k_fold scores\n",
    "knn = KNeighborsClassifier()\n",
    "\n",
    "nighb = []\n",
    "max = 0\n",
    "k = 0\n",
    "\n",
    "for i in range(1,16,1):\n",
    "    knn = KNeighborsClassifier(n_neighbors=i, weights='distance')\n",
    "    score = cross_val_score(knn, X, y, cv=4).mean()\n",
    "    if max < score:\n",
    "        max = score \n",
    "        k = i\n",
    "    nighb.append(score)\n",
    "\n",
    "print('The Optimal K :', k)    \n",
    "nighb"
   ]
  },
  {
   "cell_type": "code",
   "execution_count": 38,
   "metadata": {},
   "outputs": [
    {
     "data": {
      "text/plain": [
       "Text(0, 0.5, 'K-fold Scores')"
      ]
     },
     "execution_count": 38,
     "metadata": {},
     "output_type": "execute_result"
    },
    {
     "data": {
      "image/png": "[encoded data removed]",
      "text/plain": [
       "<Figure size 432x288 with 1 Axes>"
      ]
     },
     "metadata": {},
     "output_type": "display_data"
    }
   ],
   "source": [
    "plt.plot(range(1,16,1), nighb)\n",
    "plt.xlabel('No.of Nighbors')\n",
    "plt.ylabel('K-fold Scores')"
   ]
  },
  {
   "cell_type": "code",
   "execution_count": 39,
   "metadata": {},
   "outputs": [
    {
     "name": "stdout",
     "output_type": "stream",
     "text": [
      "KNN Train Score : 0.9997329518359561\n",
      "KNN Test Score : 0.9933623254749371\n"
     ]
    }
   ],
   "source": [
    "knn.fit(X_train,y_train)\n",
    "print(\"KNN Train Score :\",knn.score(X_train,y_train))\n",
    "print(\"KNN Test Score :\",knn.score(X_test,y_test))"
   ]
  },
  {
   "cell_type": "code",
   "execution_count": 40,
   "metadata": {},
   "outputs": [
    {
     "name": "stdout",
     "output_type": "stream",
     "text": [
      "KNN K-fold cross validation: 0.9931026063602515\n"
     ]
    }
   ],
   "source": [
    "#KNN K-fold Cross validation\n",
    "from sklearn.model_selection import cross_val_score\n",
    "#print(\"KNN K-fold cross validation:\" , cross_val_score(knn,X_train,y_train,cv=4).mean())\n",
    "print(\"KNN K-fold cross validation:\" , cross_val_score(knn,X,y,cv=4).mean())\n",
    "cvs_knn = cross_val_score(knn,X,y,cv=4).mean()"
   ]
  },
  {
   "cell_type": "code",
   "execution_count": 41,
   "metadata": {},
   "outputs": [
    {
     "name": "stdout",
     "output_type": "stream",
     "text": [
      "KNN Confusion Matrix \n",
      "\n",
      " [[7472   46    4    0]\n",
      " [  20 2960    8    1]\n",
      " [   0    1 2588    0]\n",
      " [   2    5    0    0]] \n",
      "\n",
      "\n",
      "\t KNN Classification Report \n",
      "\n",
      "               precision    recall  f1-score   support\n",
      "\n",
      "       allow       1.00      0.99      1.00      7522\n",
      "        deny       0.98      0.99      0.99      2989\n",
      "        drop       1.00      1.00      1.00      2589\n",
      "  reset-both       0.00      0.00      0.00         7\n",
      "\n",
      "    accuracy                           0.99     13107\n",
      "   macro avg       0.74      0.75      0.74     13107\n",
      "weighted avg       0.99      0.99      0.99     13107\n",
      "\n"
     ]
    }
   ],
   "source": [
    "#KNN CM C_report\n",
    "\n",
    "y_pred_knn = knn.predict(X_test)\n",
    "print(\"KNN Confusion Matrix \\n\\n\",confusion_matrix(y_test,y_pred_knn),\"\\n\\n\")\n",
    "\n",
    "print(\"\\t KNN Classification Report \\n\\n\", classification_report(y_test,y_pred_knn))"
   ]
  },
  {
   "cell_type": "code",
   "execution_count": 42,
   "metadata": {},
   "outputs": [
    {
     "data": {
      "text/plain": [
       "GridSearchCV(cv=4, error_score=nan,\n",
       "             estimator=RandomForestClassifier(bootstrap=True, ccp_alpha=0.0,\n",
       "                                              class_weight=None,\n",
       "                                              criterion='gini', max_depth=None,\n",
       "                                              max_features='auto',\n",
       "                                              max_leaf_nodes=None,\n",
       "                                              max_samples=None,\n",
       "                                              min_impurity_decrease=0.0,\n",
       "                                              min_impurity_split=None,\n",
       "                                              min_samples_leaf=1,\n",
       "                                              min_samples_split=2,\n",
       "                                              min_weight_fraction_leaf=0.0,\n",
       "                                              n_estimators=100, n_jobs=None,\n",
       "                                              oob_score=False,\n",
       "                                              random_state=None, verbose=0,\n",
       "                                              warm_start=False),\n",
       "             iid='deprecated', n_jobs=None,\n",
       "             param_grid={'n_estimators': [40, 60, 80, 100, 120]},\n",
       "             pre_dispatch='2*n_jobs', refit=True, return_train_score=False,\n",
       "             scoring=None, verbose=0)"
      ]
     },
     "execution_count": 42,
     "metadata": {},
     "output_type": "execute_result"
    }
   ],
   "source": [
    "# Random forest Model \n",
    "from sklearn.ensemble import RandomForestClassifier\n",
    "from sklearn.model_selection import  GridSearchCV\n",
    "params_rf = {'n_estimators': [40,60,80,100,120]}\n",
    "rf = GridSearchCV(RandomForestClassifier(),param_grid=params_rf,cv=4)\n",
    "rf.fit(X_train, y_train)"
   ]
  },
  {
   "cell_type": "code",
   "execution_count": 43,
   "metadata": {},
   "outputs": [
    {
     "data": {
      "text/plain": [
       "{'n_estimators': 120}"
      ]
     },
     "execution_count": 43,
     "metadata": {},
     "output_type": "execute_result"
    }
   ],
   "source": [
    "rf.best_params_"
   ]
  },
  {
   "cell_type": "code",
   "execution_count": 44,
   "metadata": {},
   "outputs": [
    {
     "name": "stdout",
     "output_type": "stream",
     "text": [
      "Random Forest Best Score: 0.9977873137544457\n",
      "Random Forest test Score: 0.9986266880292973\n"
     ]
    }
   ],
   "source": [
    "print(\"Random Forest Best Score:\",rf.best_score_)\n",
    "print(\"Random Forest test Score:\",rf.score(X_test, y_test))"
   ]
  },
  {
   "cell_type": "code",
   "execution_count": 45,
   "metadata": {},
   "outputs": [
    {
     "name": "stdout",
     "output_type": "stream",
     "text": [
      "Random Forest K-fold cross validation: 0.9828480742232802\n"
     ]
    }
   ],
   "source": [
    "# Random Forest K-fold Cross validation\n",
    "from sklearn.model_selection import cross_val_score\n",
    "cvs_rf = cross_val_score(rf,X,y,cv=4).mean()\n",
    "print(\"Random Forest K-fold cross validation:\" , cvs_rf)"
   ]
  },
  {
   "cell_type": "code",
   "execution_count": 46,
   "metadata": {},
   "outputs": [
    {
     "name": "stdout",
     "output_type": "stream",
     "text": [
      "Random Forest Confusion Matrix \n",
      "\n",
      " [[7519    3    0    0]\n",
      " [   0 2983    5    1]\n",
      " [   0    4 2585    0]\n",
      " [   0    5    0    2]] \n",
      "\n",
      "\n",
      "\t Random Forest Classification Report \n",
      "\n",
      "               precision    recall  f1-score   support\n",
      "\n",
      "       allow       1.00      1.00      1.00      7522\n",
      "        deny       1.00      1.00      1.00      2989\n",
      "        drop       1.00      1.00      1.00      2589\n",
      "  reset-both       0.67      0.29      0.40         7\n",
      "\n",
      "    accuracy                           1.00     13107\n",
      "   macro avg       0.92      0.82      0.85     13107\n",
      "weighted avg       1.00      1.00      1.00     13107\n",
      "\n"
     ]
    }
   ],
   "source": [
    "# Random Forest CM C_report\n",
    "\n",
    "y_pred_rf = rf.predict(X_test)\n",
    "print(\"Random Forest Confusion Matrix \\n\\n\", confusion_matrix(y_test,y_pred_rf),\"\\n\\n\")\n",
    "\n",
    "print(\"\\t Random Forest Classification Report \\n\\n\",classification_report(y_test,y_pred_rf))"
   ]
  },
  {
   "cell_type": "code",
   "execution_count": 47,
   "metadata": {},
   "outputs": [
    {
     "data": {
      "text/plain": [
       "GridSearchCV(cv=4, error_score=nan,\n",
       "             estimator=AdaBoostClassifier(algorithm='SAMME.R',\n",
       "                                          base_estimator=None,\n",
       "                                          learning_rate=1.0, n_estimators=50,\n",
       "                                          random_state=None),\n",
       "             iid='deprecated', n_jobs=None,\n",
       "             param_grid={'base_estimator': [DecisionTreeClassifier(ccp_alpha=0.0,\n",
       "                                                                   class_weight=None,\n",
       "                                                                   criterion='gini',\n",
       "                                                                   max_depth=1,\n",
       "                                                                   max_features=None,\n",
       "                                                                   max_leaf_nodes=None,\n",
       "                                                                   min_impurity_...\n",
       "                                                                   criterion='gini',\n",
       "                                                                   max_depth=10,\n",
       "                                                                   max_features=None,\n",
       "                                                                   max_leaf_nodes=None,\n",
       "                                                                   min_impurity_decrease=0.0,\n",
       "                                                                   min_impurity_split=None,\n",
       "                                                                   min_samples_leaf=1,\n",
       "                                                                   min_samples_split=2,\n",
       "                                                                   min_weight_fraction_leaf=0.0,\n",
       "                                                                   presort='deprecated',\n",
       "                                                                   random_state=None,\n",
       "                                                                   splitter='best')],\n",
       "                         'n_estimators': [20, 40, 60, 80, 100]},\n",
       "             pre_dispatch='2*n_jobs', refit=True, return_train_score=False,\n",
       "             scoring=None, verbose=0)"
      ]
     },
     "execution_count": 47,
     "metadata": {},
     "output_type": "execute_result"
    }
   ],
   "source": [
    "# AdaBoost Model\n",
    "from sklearn.ensemble import AdaBoostClassifier\n",
    "from sklearn.tree import DecisionTreeClassifier\n",
    "params = {\n",
    "            'base_estimator': [\n",
    "                               DecisionTreeClassifier(max_depth=1),\n",
    "                               DecisionTreeClassifier(max_depth=5),\n",
    "                               DecisionTreeClassifier(max_depth=10)\n",
    "                              ],\n",
    "            'n_estimators': [20,40,60,80,100]\n",
    "            }\n",
    "ada = GridSearchCV(AdaBoostClassifier(),param_grid=params,cv=4)\n",
    "ada.fit(X_train, y_train)"
   ]
  },
  {
   "cell_type": "code",
   "execution_count": 48,
   "metadata": {},
   "outputs": [
    {
     "data": {
      "text/plain": [
       "{'base_estimator': DecisionTreeClassifier(ccp_alpha=0.0, class_weight=None, criterion='gini',\n",
       "                        max_depth=10, max_features=None, max_leaf_nodes=None,\n",
       "                        min_impurity_decrease=0.0, min_impurity_split=None,\n",
       "                        min_samples_leaf=1, min_samples_split=2,\n",
       "                        min_weight_fraction_leaf=0.0, presort='deprecated',\n",
       "                        random_state=None, splitter='best'),\n",
       " 'n_estimators': 80}"
      ]
     },
     "execution_count": 48,
     "metadata": {},
     "output_type": "execute_result"
    }
   ],
   "source": [
    "ada.best_params_"
   ]
  },
  {
   "cell_type": "code",
   "execution_count": 49,
   "metadata": {},
   "outputs": [
    {
     "name": "stdout",
     "output_type": "stream",
     "text": [
      "Adaboost Best Score: 0.9980352888690837\n",
      "Adaboost test Score: 0.9988555733577478\n"
     ]
    }
   ],
   "source": [
    "print(\"Adaboost Best Score:\", ada.best_score_)\n",
    "print(\"Adaboost test Score:\", ada.score(X_test, y_test))"
   ]
  },
  {
   "cell_type": "code",
   "execution_count": 50,
   "metadata": {},
   "outputs": [
    {
     "name": "stdout",
     "output_type": "stream",
     "text": [
      "AdaBoost K-fold cross validation: 0.994750656167979\n"
     ]
    }
   ],
   "source": [
    "# AdaBoost K-fold Cross validation\n",
    "from sklearn.model_selection import cross_val_score\n",
    "cvs_ada = cross_val_score(ada,X,y,cv=4).mean()\n",
    "print(\"AdaBoost K-fold cross validation:\" , cvs_ada)"
   ]
  },
  {
   "cell_type": "code",
   "execution_count": 51,
   "metadata": {},
   "outputs": [
    {
     "name": "stdout",
     "output_type": "stream",
     "text": [
      "AdaBoost Confusion Matrix \n",
      "\n",
      " [[7519    3    0    0]\n",
      " [   0 2983    5    1]\n",
      " [   0    3 2586    0]\n",
      " [   0    3    0    4]] \n",
      "\n",
      "\n",
      "\t AdaBoost Classification Report \n",
      "\n",
      "               precision    recall  f1-score   support\n",
      "\n",
      "       allow       1.00      1.00      1.00      7522\n",
      "        deny       1.00      1.00      1.00      2989\n",
      "        drop       1.00      1.00      1.00      2589\n",
      "  reset-both       0.80      0.57      0.67         7\n",
      "\n",
      "    accuracy                           1.00     13107\n",
      "   macro avg       0.95      0.89      0.92     13107\n",
      "weighted avg       1.00      1.00      1.00     13107\n",
      "\n"
     ]
    }
   ],
   "source": [
    "# Adaboost CM C_report \n",
    "\n",
    "y_pred_ada = ada.predict(X_test)\n",
    "print(\"AdaBoost Confusion Matrix \\n\\n\", confusion_matrix(y_test,y_pred_ada),\"\\n\\n\")\n",
    "\n",
    "print(\"\\t AdaBoost Classification Report \\n\\n\",classification_report(y_test,y_pred_ada))"
   ]
  },
  {
   "cell_type": "code",
   "execution_count": null,
   "metadata": {},
   "outputs": [],
   "source": [
    " # Support Vector Classification SVC\n",
    "from sklearn.svm import SVC\n",
    "from sklearn.model_selection import GridSearchCV\n",
    "params_dictionary = {\n",
    "                        'C' : [1, 10],\n",
    "                        'kernel': ['linear',  'rbf'], #,'poly', 'sigmoid'\n",
    "                        'degree': [2,3]\n",
    "                        #'gamma' : [0.0003, 0.003,0.03, 0.3, 1.0] \n",
    "                    }\n",
    "\n",
    "param_grid = {'C':[0.1, 1, 10], 'kernel':['linear','poly','rbf','sigmoid'], degree:[1,2,3]}\n",
    "\n",
    "svc_model = GridSearchCV(SVC(),param_grid=params_dictionary,cv=4)\n",
    "svc_model.fit(X_train, y_train)"
   ]
  },
  {
   "cell_type": "code",
   "execution_count": null,
   "metadata": {},
   "outputs": [],
   "source": [
    "from sklearn.svm import SVC\n",
    "from sklearn.model_selection import GridSearchCV\n",
    "param_grid = {'C':[0.1, 1, 10], 'kernel':['linear','poly','rbf','sigmoid'], degree:[1,2,3]}\n",
    "\n",
    "svc_model = GridSearchCV(SVC(),param_grid)\n",
    "svc_model.fit(X_train, y_train)"
   ]
  },
  {
   "cell_type": "code",
   "execution_count": null,
   "metadata": {},
   "outputs": [],
   "source": [
    "svc_model.best_params_"
   ]
  },
  {
   "cell_type": "code",
   "execution_count": null,
   "metadata": {},
   "outputs": [],
   "source": [
    "svc_model.best_estimator_"
   ]
  },
  {
   "cell_type": "code",
   "execution_count": null,
   "metadata": {},
   "outputs": [],
   "source": [
    "print(\"SVC Best Score: \", svc_model.best_score_)\n",
    "print(\"SVC test Score:\", svc_model.score(X_test, y_test))"
   ]
  },
  {
   "cell_type": "code",
   "execution_count": null,
   "metadata": {},
   "outputs": [],
   "source": [
    "SVC K-fold Cross validation\n",
    "from sklearn.model_selection import cross_val_score\n",
    "cvs_svc = cross_val_score(svc_model,X,y,cv=4).mean()\n",
    "print(\"SVC K-fold cross validation:\" , cvs_svc)"
   ]
  },
  {
   "cell_type": "code",
   "execution_count": 37,
   "metadata": {},
   "outputs": [
    {
     "name": "stdout",
     "output_type": "stream",
     "text": [
      "Kernal: linear\n",
      "SVC train Score:  0.9914163090128756\n",
      "SVC test Score:   0.9929045548180362\n",
      "Kernal: rbf\n",
      "SVC train Score:  0.5744969003338102\n",
      "SVC test Score:   0.5738918135347524\n",
      "Kernal: poly\n",
      "SVC train Score:  0.5744969003338102\n",
      "SVC test Score:   0.5738918135347524\n",
      "Kernal: sigmoid\n",
      "SVC train Score:  0.5744969003338102\n",
      "SVC test Score:   0.5738918135347524\n"
     ]
    }
   ],
   "source": [
    "# try another way\n",
    "from sklearn.svm import SVC\n",
    "\n",
    "ker = ['linear','rbf','poly', 'sigmoid']\n",
    "\n",
    "for i in ker:\n",
    "    svc_model = SVC(kernel=i)\n",
    "    svc_model.fit(X_train, y_train)\n",
    "    print(\"Kernal:\", i)\n",
    "    print(\"SVC train Score: \", svc_model.score(X_train, y_train))\n",
    "    print(\"SVC test Score:  \", svc_model.score(X_test, y_test))"
   ]
  },
  {
   "cell_type": "code",
   "execution_count": 39,
   "metadata": {},
   "outputs": [
    {
     "name": "stdout",
     "output_type": "stream",
     "text": [
      "degree: 1\n",
      "SVC train Score:  0.9914163090128756\n",
      "SVC test Score:   0.9929045548180362\n",
      "degree: 2\n",
      "SVC train Score:  0.9914163090128756\n",
      "SVC test Score:   0.9929045548180362\n",
      "degree: 3\n",
      "SVC train Score:  0.9914163090128756\n",
      "SVC test Score:   0.9929045548180362\n",
      "degree: 4\n",
      "SVC train Score:  0.9914163090128756\n",
      "SVC test Score:   0.9929045548180362\n"
     ]
    }
   ],
   "source": [
    "for i in range(1,4):\n",
    "    svc_model = SVC(kernel='linear', degree=i)\n",
    "    svc_model.fit(X_train, y_train)\n",
    "    print(\"degree:\", i)\n",
    "    print(\"SVC train Score: \", svc_model.score(X_train, y_train))\n",
    "    print(\"SVC test Score:  \", svc_model.score(X_test, y_test))"
   ]
  },
  {
   "cell_type": "code",
   "execution_count": 48,
   "metadata": {},
   "outputs": [
    {
     "name": "stdout",
     "output_type": "stream",
     "text": [
      "C:  0.1\n",
      "SVC train Score:  0.991244635193133\n",
      "SVC test Score:   0.9928282597085527\n",
      "C:  1\n",
      "SVC train Score:  0.9914163090128756\n",
      "SVC test Score:   0.9929045548180362\n",
      "C:  10\n",
      "SVC train Score:  0.9912637100619933\n",
      "SVC test Score:   0.9929808499275197\n",
      "C:  100\n",
      "SVC train Score:  0.9915116833571769\n",
      "SVC test Score:   0.9930571450370032\n"
     ]
    }
   ],
   "source": [
    "from sklearn.svm import SVC\n",
    "\n",
    "C = [0.1, 1, 10, 100] \n",
    "for i in C:\n",
    "    svc_model = SVC(kernel='linear', degree=1, C=i)\n",
    "    svc_model.fit(X_train, y_train)\n",
    "    print(\"C: \", i)\n",
    "    print(\"SVC train Score: \", svc_model.score(X_train, y_train))\n",
    "    print(\"SVC test Score:  \", svc_model.score(X_test, y_test))"
   ]
  },
  {
   "cell_type": "code",
   "execution_count": 53,
   "metadata": {},
   "outputs": [
    {
     "data": {
      "text/plain": [
       "SVC(C=100, break_ties=False, cache_size=200, class_weight=None, coef0=0.0,\n",
       "    decision_function_shape='ovr', degree=1, gamma='scale', kernel='linear',\n",
       "    max_iter=-1, probability=False, random_state=None, shrinking=True,\n",
       "    tol=0.001, verbose=False)"
      ]
     },
     "execution_count": 53,
     "metadata": {},
     "output_type": "execute_result"
    }
   ],
   "source": [
    "from sklearn.svm import SVC\n",
    "\n",
    "svc_model = SVC(kernel='linear', degree=1, C=100)\n",
    "svc_model.fit(X_train, y_train)"
   ]
  },
  {
   "cell_type": "code",
   "execution_count": 55,
   "metadata": {},
   "outputs": [
    {
     "name": "stdout",
     "output_type": "stream",
     "text": [
      "SVC train Score: 0.9915116833571769\n",
      "SVC test Score: 0.9930571450370032\n"
     ]
    }
   ],
   "source": [
    "print(\"SVC train Score:\", svc_model.score(X_train, y_train))\n",
    "print(\"SVC test Score:\", svc_model.score(X_test, y_test))"
   ]
  },
  {
   "cell_type": "code",
   "execution_count": null,
   "metadata": {},
   "outputs": [],
   "source": [
    "#SVC K-fold Cross validation\n",
    "from sklearn.model_selection import cross_val_score\n",
    "cvs_svc = cross_val_score(svc_model,X,y,cv=4).mean()\n",
    "print(\"SVC K-fold cross validation:\" , cvs_svc)"
   ]
  },
  {
   "cell_type": "code",
   "execution_count": null,
   "metadata": {},
   "outputs": [],
   "source": [
    "# SVC CM C_report \n",
    "\n",
    "y_pred_svc = svc_model.predict(X_test)\n",
    "print(\"SVC Confusion Matrix \\n\\n\", confusion_matrix(y_test,y_pred_svc),\"\\n\\n\")\n",
    "\n",
    "print(\"\\t SVC Classification Report \\n\\n\",classification_report(y_test,y_pred_svc))"
   ]
  },
  {
   "cell_type": "code",
   "execution_count": 113,
   "metadata": {},
   "outputs": [
    {
     "data": {
      "text/html": [
       "<div>\n",
       "<style scoped>\n",
       "    .dataframe tbody tr th:only-of-type {\n",
       "        vertical-align: middle;\n",
       "    }\n",
       "\n",
       "    .dataframe tbody tr th {\n",
       "        vertical-align: top;\n",
       "    }\n",
       "\n",
       "    .dataframe thead th {\n",
       "        text-align: right;\n",
       "    }\n",
       "</style>\n",
       "<table border=\"1\" class=\"dataframe\">\n",
       "  <thead>\n",
       "    <tr style=\"text-align: right;\">\n",
       "      <th></th>\n",
       "      <th>Test Score</th>\n",
       "      <th>Train Score</th>\n",
       "      <th>Cross Validation</th>\n",
       "    </tr>\n",
       "  </thead>\n",
       "  <tbody>\n",
       "    <tr>\n",
       "      <td>Linear Regression</td>\n",
       "      <td>0.931716</td>\n",
       "      <td>0.928622</td>\n",
       "      <td>0.929480</td>\n",
       "    </tr>\n",
       "    <tr>\n",
       "      <td>KNN</td>\n",
       "      <td>0.993362</td>\n",
       "      <td>0.999733</td>\n",
       "      <td>0.993103</td>\n",
       "    </tr>\n",
       "    <tr>\n",
       "      <td>Random Forest</td>\n",
       "      <td>0.998627</td>\n",
       "      <td>0.997787</td>\n",
       "      <td>0.982848</td>\n",
       "    </tr>\n",
       "    <tr>\n",
       "      <td>AdaBoost</td>\n",
       "      <td>0.998856</td>\n",
       "      <td>0.998035</td>\n",
       "      <td>0.994751</td>\n",
       "    </tr>\n",
       "    <tr>\n",
       "      <td>SVC</td>\n",
       "      <td>0.993057</td>\n",
       "      <td>0.991512</td>\n",
       "      <td>NaN</td>\n",
       "    </tr>\n",
       "  </tbody>\n",
       "</table>\n",
       "</div>"
      ],
      "text/plain": [
       "                   Test Score  Train Score  Cross Validation\n",
       "Linear Regression    0.931716     0.928622          0.929480\n",
       "KNN                  0.993362     0.999733          0.993103\n",
       "Random Forest        0.998627     0.997787          0.982848\n",
       "AdaBoost             0.998856     0.998035          0.994751\n",
       "SVC                  0.993057     0.991512               NaN"
      ]
     },
     "execution_count": 113,
     "metadata": {},
     "output_type": "execute_result"
    }
   ],
   "source": [
    "# Visualize the all model scores\n",
    "d = {\n",
    "     'Test Score': [accuracy_score(y_test, y_pred), knn.score(X_test,y_test), rf.score(X_test, y_test), ada.score(X_test, y_test), svc_model.score(X_test, y_test)], \n",
    "     'Train Score': [model.score(X_train_scaled, y_train), knn.score(X_train,y_train), rf.best_score_, ada.best_score_,svc_model.score(X_train, y_train)],\n",
    "     'Cross Validation': [cvs_lor, cvs_knn, cvs_rf, cvs_ada, np.nan]\n",
    "    }\n",
    "LOR_Model_Scores = pd.DataFrame(data=d, index = ['Linear Regression', 'KNN', 'Random Forest', 'AdaBoost', 'SVC'])\n",
    "LOR_Model_Scores"
   ]
  },
  {
   "cell_type": "code",
   "execution_count": 114,
   "metadata": {},
   "outputs": [
    {
     "data": {
      "text/html": [
       "<div>\n",
       "<style scoped>\n",
       "    .dataframe tbody tr th:only-of-type {\n",
       "        vertical-align: middle;\n",
       "    }\n",
       "\n",
       "    .dataframe tbody tr th {\n",
       "        vertical-align: top;\n",
       "    }\n",
       "\n",
       "    .dataframe thead th {\n",
       "        text-align: right;\n",
       "    }\n",
       "</style>\n",
       "<table border=\"1\" class=\"dataframe\">\n",
       "  <thead>\n",
       "    <tr style=\"text-align: right;\">\n",
       "      <th></th>\n",
       "      <th>Test Score</th>\n",
       "      <th>Train Score</th>\n",
       "      <th>Cross Validation</th>\n",
       "    </tr>\n",
       "  </thead>\n",
       "  <tbody>\n",
       "    <tr>\n",
       "      <td>count</td>\n",
       "      <td>5.000000</td>\n",
       "      <td>5.000000</td>\n",
       "      <td>4.000000</td>\n",
       "    </tr>\n",
       "    <tr>\n",
       "      <td>mean</td>\n",
       "      <td>0.983124</td>\n",
       "      <td>0.983138</td>\n",
       "      <td>0.975045</td>\n",
       "    </tr>\n",
       "    <tr>\n",
       "      <td>std</td>\n",
       "      <td>0.028871</td>\n",
       "      <td>0.030635</td>\n",
       "      <td>0.030830</td>\n",
       "    </tr>\n",
       "    <tr>\n",
       "      <td>min</td>\n",
       "      <td>0.931716</td>\n",
       "      <td>0.928622</td>\n",
       "      <td>0.929480</td>\n",
       "    </tr>\n",
       "    <tr>\n",
       "      <td>25%</td>\n",
       "      <td>0.993057</td>\n",
       "      <td>0.991512</td>\n",
       "      <td>0.969506</td>\n",
       "    </tr>\n",
       "    <tr>\n",
       "      <td>50%</td>\n",
       "      <td>0.993362</td>\n",
       "      <td>0.997787</td>\n",
       "      <td>0.987975</td>\n",
       "    </tr>\n",
       "    <tr>\n",
       "      <td>75%</td>\n",
       "      <td>0.998627</td>\n",
       "      <td>0.998035</td>\n",
       "      <td>0.993515</td>\n",
       "    </tr>\n",
       "    <tr>\n",
       "      <td>max</td>\n",
       "      <td>0.998856</td>\n",
       "      <td>0.999733</td>\n",
       "      <td>0.994751</td>\n",
       "    </tr>\n",
       "  </tbody>\n",
       "</table>\n",
       "</div>"
      ],
      "text/plain": [
       "       Test Score  Train Score  Cross Validation\n",
       "count    5.000000     5.000000          4.000000\n",
       "mean     0.983124     0.983138          0.975045\n",
       "std      0.028871     0.030635          0.030830\n",
       "min      0.931716     0.928622          0.929480\n",
       "25%      0.993057     0.991512          0.969506\n",
       "50%      0.993362     0.997787          0.987975\n",
       "75%      0.998627     0.998035          0.993515\n",
       "max      0.998856     0.999733          0.994751"
      ]
     },
     "execution_count": 114,
     "metadata": {},
     "output_type": "execute_result"
    }
   ],
   "source": [
    "LOR_Model_Scores.describe(include =\"all\", exclude=None)"
   ]
  },
  {
   "cell_type": "code",
   "execution_count": 115,
   "metadata": {},
   "outputs": [
    {
     "data": {
      "text/html": [
       "<div>\n",
       "<style scoped>\n",
       "    .dataframe tbody tr th:only-of-type {\n",
       "        vertical-align: middle;\n",
       "    }\n",
       "\n",
       "    .dataframe tbody tr th {\n",
       "        vertical-align: top;\n",
       "    }\n",
       "\n",
       "    .dataframe thead th {\n",
       "        text-align: right;\n",
       "    }\n",
       "</style>\n",
       "<table border=\"1\" class=\"dataframe\">\n",
       "  <thead>\n",
       "    <tr style=\"text-align: right;\">\n",
       "      <th></th>\n",
       "      <th>Test Score</th>\n",
       "      <th>Train Score</th>\n",
       "      <th>Cross Validation</th>\n",
       "      <th>Average</th>\n",
       "    </tr>\n",
       "  </thead>\n",
       "  <tbody>\n",
       "    <tr>\n",
       "      <td>Linear Regression</td>\n",
       "      <td>0.931716</td>\n",
       "      <td>0.928622</td>\n",
       "      <td>0.929480</td>\n",
       "      <td>0.929939</td>\n",
       "    </tr>\n",
       "    <tr>\n",
       "      <td>KNN</td>\n",
       "      <td>0.993362</td>\n",
       "      <td>0.999733</td>\n",
       "      <td>0.993103</td>\n",
       "      <td>0.995399</td>\n",
       "    </tr>\n",
       "    <tr>\n",
       "      <td>Random Forest</td>\n",
       "      <td>0.998627</td>\n",
       "      <td>0.997787</td>\n",
       "      <td>0.982848</td>\n",
       "      <td>0.993087</td>\n",
       "    </tr>\n",
       "    <tr>\n",
       "      <td>AdaBoost</td>\n",
       "      <td>0.998856</td>\n",
       "      <td>0.998035</td>\n",
       "      <td>0.994751</td>\n",
       "      <td>0.997214</td>\n",
       "    </tr>\n",
       "    <tr>\n",
       "      <td>SVC</td>\n",
       "      <td>0.993057</td>\n",
       "      <td>0.991512</td>\n",
       "      <td>NaN</td>\n",
       "      <td>0.992284</td>\n",
       "    </tr>\n",
       "  </tbody>\n",
       "</table>\n",
       "</div>"
      ],
      "text/plain": [
       "                   Test Score  Train Score  Cross Validation   Average\n",
       "Linear Regression    0.931716     0.928622          0.929480  0.929939\n",
       "KNN                  0.993362     0.999733          0.993103  0.995399\n",
       "Random Forest        0.998627     0.997787          0.982848  0.993087\n",
       "AdaBoost             0.998856     0.998035          0.994751  0.997214\n",
       "SVC                  0.993057     0.991512               NaN  0.992284"
      ]
     },
     "execution_count": 115,
     "metadata": {},
     "output_type": "execute_result"
    }
   ],
   "source": [
    "LOR_Model_Scores['Average'] = LOR_Model_Scores.mean(numeric_only=True, skipna=True,axis=1)\n",
    "LOR_Model_Scores"
   ]
  },
  {
   "cell_type": "code",
   "execution_count": 116,
   "metadata": {},
   "outputs": [],
   "source": [
    "LOR_Model_Scores.to_csv(r'IF Classifitication_Models_Scores Name.csv', \n",
    "                        index=False)"
   ]
  },
  {
   "cell_type": "code",
   "execution_count": 117,
   "metadata": {},
   "outputs": [
    {
     "name": "stdout",
     "output_type": "stream",
     "text": [
      "Model Score Maximum Average : AdaBoost  =  0.9972138394649367\n"
     ]
    }
   ],
   "source": [
    "print('Model Score Maximum Average :',LOR_Model_Scores.Average.idxmax(axis=0, skipna=True), \n",
    "      ' = ', LOR_Model_Scores.Average.max())\n"
   ]
  },
  {
   "cell_type": "code",
   "execution_count": 118,
   "metadata": {},
   "outputs": [
    {
     "name": "stdout",
     "output_type": "stream",
     "text": [
      "The Model Who Scored the Maximum: \n",
      "\n"
     ]
    },
    {
     "data": {
      "text/plain": [
       "Test Score          AdaBoost\n",
       "Train Score              KNN\n",
       "Cross Validation    AdaBoost\n",
       "dtype: object"
      ]
     },
     "execution_count": 118,
     "metadata": {},
     "output_type": "execute_result"
    }
   ],
   "source": [
    "print('The Model Who Scored the Maximum:', '\\n')\n",
    "\n",
    "LOR_Model_Scores[['Test Score', 'Train Score', 'Cross Validation']].idxmax(axis=0, skipna=True)"
   ]
  },
  {
   "cell_type": "code",
   "execution_count": 123,
   "metadata": {},
   "outputs": [
    {
     "data": {
      "text/plain": [
       "Test Score          AdaBoost\n",
       "Train Score              KNN\n",
       "Cross Validation    AdaBoost\n",
       "Average             AdaBoost\n",
       "Test Score          0.998856\n",
       "Train Score         0.999733\n",
       "Cross Validation    0.994751\n",
       "dtype: object"
      ]
     },
     "execution_count": 123,
     "metadata": {},
     "output_type": "execute_result"
    }
   ],
   "source": [
    "list = LOR_Model_Scores.idxmax()\n",
    "list.append(LOR_Model_Scores[['Test Score', 'Train Score', 'Cross Validation']].max())"
   ]
  },
  {
   "cell_type": "code",
   "execution_count": 124,
   "metadata": {},
   "outputs": [
    {
     "name": "stdout",
     "output_type": "stream",
     "text": [
      "Models Average Score: 0.9815848386255211\n"
     ]
    }
   ],
   "source": [
    "print('Models Average Score:', LOR_Model_Scores.Average.mean())"
   ]
  },
  {
   "cell_type": "code",
   "execution_count": null,
   "metadata": {},
   "outputs": [],
   "source": []
  },
  {
   "cell_type": "code",
   "execution_count": null,
   "metadata": {},
   "outputs": [],
   "source": []
  }
 ],
 "metadata": {
  "kernelspec": {
   "display_name": "Python 3",
   "language": "python",
   "name": "python3"
  },
  "language_info": {
   "codemirror_mode": {
    "name": "ipython",
    "version": 3
   },
   "file_extension": ".py",
   "mimetype": "text/x-python",
   "name": "python",
   "nbconvert_exporter": "python",
   "pygments_lexer": "ipython3",
   "version": "3.8.3"
  },
  "toc": {
   "base_numbering": 1,
   "nav_menu": {},
   "number_sections": true,
   "sideBar": true,
   "skip_h1_title": false,
   "title_cell": "Table of Contents",
   "title_sidebar": "Contents",
   "toc_cell": false,
   "toc_position": {},
   "toc_section_display": true,
   "toc_window_display": false
  }
 },
 "nbformat": 4,
 "nbformat_minor": 4
}
